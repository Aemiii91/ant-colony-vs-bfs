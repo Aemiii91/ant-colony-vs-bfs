{
 "cells": [
  {
   "cell_type": "code",
   "execution_count": null,
   "metadata": {},
   "outputs": [],
   "source": [
    "node_count =           100\n",
    "ant_count =            100\n",
    "alpha =                .5\n",
    "beta =                 1.2\n",
    "evaporation =          .40\n",
    "pheromone_constant =   1000.0\n",
    "iterations =           10000"
   ]
  },
  {
   "cell_type": "code",
   "execution_count": null,
   "metadata": {},
   "outputs": [],
   "source": [
    "import math\n",
    "import datetime\n",
    "import json"
   ]
  },
  {
   "cell_type": "code",
   "execution_count": null,
   "metadata": {},
   "outputs": [],
   "source": [
    "with open('data/geocaches.json', 'r') as infile:\n",
    "    data = json.load(infile)"
   ]
  },
  {
   "cell_type": "code",
   "execution_count": null,
   "metadata": {},
   "outputs": [],
   "source": [
    "geocaches = data['geocaches'][:node_count]\n",
    "nodes_latlon = data['locations_latlon'][:node_count]\n",
    "nodes_lonlat = data['locations_lonlat'][:node_count]\n",
    "\n",
    "nodes = dict([[index, coords] for index, coords in enumerate(nodes_latlon)])"
   ]
  },
  {
   "cell_type": "code",
   "execution_count": null,
   "metadata": {},
   "outputs": [],
   "source": [
    "with open('data/matrix500.json', 'r') as infile:\n",
    "    matrix_data = json.load(infile)\n",
    "\n",
    "time_matrix = matrix_data['durations']"
   ]
  },
  {
   "cell_type": "code",
   "execution_count": null,
   "metadata": {
    "tags": []
   },
   "outputs": [],
   "source": [
    "for (i, matrix_row) in enumerate(time_matrix):\n",
    "    for (j, value) in enumerate(matrix_row):\n",
    "        if value == 0.0:\n",
    "            time_matrix[i][j] = 1.0"
   ]
  },
  {
   "cell_type": "code",
   "execution_count": null,
   "metadata": {
    "tags": []
   },
   "outputs": [],
   "source": [
    "from ant_colony import ant_colony\n",
    "\n",
    "def cost_function(from_index, to_index):\n",
    "    return time_matrix[from_index][to_index]\n",
    "\n",
    "# ...we can make a colony of ants...\n",
    "colony = ant_colony(nodes, cost_function,\n",
    "    ant_count=ant_count,\n",
    "    alpha=alpha,\n",
    "    beta=beta,\n",
    "    pheromone_evaporation_coefficient=evaporation,\n",
    "    pheromone_constant=pheromone_constant,\n",
    "    iterations=iterations\n",
    ")\n",
    "\n",
    "# ...that will find the optimal solution with ACO\n",
    "answer = colony.mainloop()\n",
    "\n",
    "optimal_path = answer[0]\n",
    "lowest_cost = answer[1]"
   ]
  },
  {
   "cell_type": "code",
   "execution_count": null,
   "metadata": {},
   "outputs": [],
   "source": [
    "print(optimal_path)\n",
    "print('\\nLowest cost: ', math.floor(lowest_cost), f' ({str(datetime.timedelta(seconds=math.floor(lowest_cost)))})')"
   ]
  },
  {
   "cell_type": "code",
   "execution_count": null,
   "metadata": {},
   "outputs": [],
   "source": [
    "from context import openroute\n",
    "\n",
    "openroute.api.go_offline()\n",
    "local_ready = openroute.check_status()\n",
    "print(\"[{}] localhost\".format(' OK ' if local_ready else 'FAIL'))\n",
    "\n",
    "openroute.api.go_online()\n",
    "azure_ready = openroute.check_status()\n",
    "print(\"[{}] azure\".format(' OK ' if azure_ready else 'FAIL'))\n",
    "\n",
    "openroute.api.toggle_online(not local_ready)\n",
    "\n",
    "print('Using: {}'.format('azure' if openroute.api.is_online() else 'localhost'))"
   ]
  },
  {
   "cell_type": "code",
   "execution_count": null,
   "metadata": {},
   "outputs": [],
   "source": [
    "import folium\n",
    "from algo_results import create_marker, create_circle_marker, fit_locations, style_function, create_legend"
   ]
  },
  {
   "cell_type": "code",
   "execution_count": null,
   "metadata": {},
   "outputs": [],
   "source": [
    "map = folium.Map(tiles=None, location=nodes_latlon[optimal_path[0]], zoom_start=14, zoom_control=False)\n",
    "folium.TileLayer(tiles='Stamen Toner', opacity=0.15).add_to(map)\n",
    "pass"
   ]
  },
  {
   "cell_type": "code",
   "execution_count": null,
   "metadata": {},
   "outputs": [],
   "source": [
    "max_geocaches = int(math.ceil((max(optimal_path) + 1) / 10.0)) * 10"
   ]
  },
  {
   "cell_type": "code",
   "execution_count": null,
   "metadata": {},
   "outputs": [],
   "source": [
    "optimal_locations = [nodes_lonlat[id] for id in optimal_path]\n",
    "\n",
    "step = 10\n",
    "max_steps = math.ceil(len(optimal_locations) / step)"
   ]
  },
  {
   "cell_type": "code",
   "execution_count": null,
   "metadata": {},
   "outputs": [],
   "source": [
    "for index in tqdm(range(max_steps)):\n",
    "    start = index * step\n",
    "    request = {\n",
    "        'coordinates': optimal_locations[start:start+step+1],\n",
    "        'geometry': True,\n",
    "        'instructions': False\n",
    "    }\n",
    "    optimal_route = openroute.request_directions(request, format_out='/geojson')\n",
    "\n",
    "    if optimal_route:\n",
    "        folium.features.GeoJson(data=optimal_route,\n",
    "                                name='Optimal route',\n",
    "                                style_function=style_function('red'),\n",
    "                                overlay=True).add_to(map)\n",
    "\n",
    "fit_locations(map, nodes_latlon[:max_geocaches])"
   ]
  },
  {
   "cell_type": "code",
   "execution_count": null,
   "metadata": {},
   "outputs": [],
   "source": [
    "for index, coords in enumerate(nodes_latlon[:max_geocaches]):\n",
    "    color = '#787c99'\n",
    "    if index == path[0]: # start\n",
    "        color = '#41a6b5'\n",
    "    elif index == path[-2]: # last node before start\n",
    "        color = '#9d7cd8'\n",
    "    elif index in path: # other visited\n",
    "        color = '#3c7da2'\n",
    "    create_marker(optimal_path, coords, index, color, radius=8).add_to(map)"
   ]
  },
  {
   "cell_type": "code",
   "execution_count": null,
   "metadata": {},
   "outputs": [],
   "source": [
    "map"
   ]
  }
 ],
 "metadata": {
  "kernelspec": {
   "display_name": "Python 3",
   "language": "python",
   "name": "python3"
  },
  "language_info": {
   "codemirror_mode": {
    "name": "ipython",
    "version": 3
   },
   "file_extension": ".py",
   "mimetype": "text/x-python",
   "name": "python",
   "nbconvert_exporter": "python",
   "pygments_lexer": "ipython3",
   "version": "3.9.0"
  }
 },
 "nbformat": 4,
 "nbformat_minor": 2
}
