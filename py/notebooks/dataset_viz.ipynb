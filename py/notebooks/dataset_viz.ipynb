{
 "metadata": {
  "language_info": {
   "codemirror_mode": {
    "name": "ipython",
    "version": 3
   },
   "file_extension": ".py",
   "mimetype": "text/x-python",
   "name": "python",
   "nbconvert_exporter": "python",
   "pygments_lexer": "ipython3",
   "version": "3.8.6-final"
  },
  "orig_nbformat": 2,
  "kernelspec": {
   "name": "python3",
   "display_name": "Python 3.8.6 64-bit",
   "metadata": {
    "interpreter": {
     "hash": "4e1d9a8909477db77738c33245c29c7265277ef753467dede8cf3f814cde494e"
    }
   }
  }
 },
 "nbformat": 4,
 "nbformat_minor": 2,
 "cells": [
  {
   "cell_type": "code",
   "execution_count": null,
   "metadata": {},
   "outputs": [],
   "source": [
    "import datetime\n",
    "import locale\n",
    "locale.setlocale(locale.LC_ALL, '')"
   ]
  },
  {
   "cell_type": "code",
   "execution_count": null,
   "metadata": {},
   "outputs": [],
   "source": [
    "\n",
    "dataset = 'berlin'\n"
   ]
  },
  {
   "cell_type": "code",
   "execution_count": null,
   "metadata": {},
   "outputs": [],
   "source": [
    "import json\n",
    "\n",
    "with open(f\"../data/{dataset}.json\", 'r') as infile:\n",
    "    data = json.load(infile)\n",
    "\n",
    "geocaches = [[lat, lon] for lon, lat in data['metadata']['query']['locations']]"
   ]
  },
  {
   "cell_type": "code",
   "execution_count": null,
   "metadata": {},
   "outputs": [],
   "source": [
    "import folium\n",
    "from algo_results import create_marker, create_circle_marker, fit_locations, style_function, create_legend"
   ]
  },
  {
   "cell_type": "code",
   "execution_count": null,
   "metadata": {},
   "outputs": [],
   "source": [
    "center = geocaches[0]\n",
    "my_map = folium.Map(tiles=None, location=center, zoom_start=10, zoom_control=False)\n",
    "folium.TileLayer(tiles='Stamen Toner', opacity=0.15).add_to(my_map)\n",
    "# fit_locations(my_map, geocaches)\n",
    "pass"
   ]
  },
  {
   "cell_type": "code",
   "execution_count": null,
   "metadata": {},
   "outputs": [],
   "source": [
    "line_color = '#41a6b5'\n",
    "center_lat = center[0]\n",
    "center_lon = center[1]\n",
    "\n",
    "folium.PolyLine([[center_lat, -100], [center_lat, 100]], color=line_color, weight=2, opacity=.5).add_to(my_map)\n",
    "folium.PolyLine([[-100, center_lon], [100, center_lon]], color=line_color, weight=2, opacity=.5).add_to(my_map)\n",
    "\n",
    "folium.Circle(center, radius=50000, color=line_color, weight=2, opacity=.5).add_to(my_map)\n",
    "\n",
    "pass"
   ]
  },
  {
   "cell_type": "code",
   "execution_count": null,
   "metadata": {},
   "outputs": [],
   "source": [
    "for index, coords in enumerate(geocaches):\n",
    "    create_marker([], coords, index, color='#787c99', radius=8).add_to(my_map)"
   ]
  },
  {
   "cell_type": "code",
   "execution_count": null,
   "metadata": {},
   "outputs": [],
   "source": [
    "my_map"
   ]
  },
  {
   "cell_type": "code",
   "execution_count": null,
   "metadata": {},
   "outputs": [],
   "source": []
  }
 ]
}