{
 "cells": [
  {
   "cell_type": "code",
   "execution_count": null,
   "metadata": {},
   "outputs": [],
   "source": [
    "from context import opencaching, openroute, matrix_utils\n",
    "\n",
    "def print_response(response: dict):\n",
    "    matrix_utils.print_matrix(response['distances'], \"Distances\")\n",
    "    print('\\n')\n",
    "    matrix_utils.print_matrix(response['durations'], \"Durations\")"
   ]
  },
  {
   "cell_type": "code",
   "execution_count": null,
   "metadata": {},
   "outputs": [],
   "source": [
    "openroute.api.go_offline()\n",
    "local_ready = openroute.check_status()\n",
    "print(\"[{}] localhost\".format(' OK ' if local_ready else 'FAIL'))\n",
    "\n",
    "openroute.api.go_online()\n",
    "azure_ready = openroute.check_status()\n",
    "print(\"[{}] azure\".format(' OK ' if azure_ready else 'FAIL'))\n",
    "\n",
    "openroute.api.toggle_online(not local_ready)\n",
    "\n",
    "print('Using: {}'.format('azure' if openroute.api.is_online() else 'localhost'))"
   ]
  },
  {
   "cell_type": "code",
   "execution_count": null,
   "metadata": {},
   "outputs": [],
   "source": [
    "start_coord = (52.518848, 13.399411)"
   ]
  },
  {
   "cell_type": "code",
   "execution_count": null,
   "metadata": {},
   "outputs": [],
   "source": [
    "start_lat, start_lon = start_coord\n",
    "geocaches = opencaching.parse_results(opencaching.search(start_lat, start_lon, count=500))\n",
    "\n",
    "locations_latlon = [(cache['latitude'], cache['longitude']) for cache in geocaches]\n",
    "locations_lonlat = [(cache['longitude'], cache['latitude']) for cache in geocaches]\n",
    "\n",
    "print(f\"Found {len(geocaches)} geocaches near {start_coord}\")"
   ]
  },
  {
   "cell_type": "code",
   "execution_count": null,
   "metadata": {},
   "outputs": [],
   "source": [
    "import folium\n",
    "\n",
    "def create_marker(cache: dict, color: str = 'darkred'):\n",
    "    return folium.map.Marker(\n",
    "        location=[cache['latitude'], cache['longitude']],\n",
    "        popup=f\"<strong>{cache['code']}</strong><br>Lat:&nbsp;{cache['latitude']:.3f}<br>Lon:&nbsp;{cache['longitude']:.3f}\",\n",
    "        icon=folium.map.Icon(color=color), tooltip=cache['code']\n",
    "    )\n",
    "\n",
    "def fit_locations(map: folium.Map, locations: list):\n",
    "    sw = min(locations)\n",
    "    ne = max(locations)\n",
    "    map.fit_bounds([sw, ne])\n",
    "\n",
    "m = folium.Map(tiles='Stamen Toner',location=start_coord, zoom_start=11)"
   ]
  },
  {
   "cell_type": "code",
   "execution_count": null,
   "metadata": {},
   "outputs": [],
   "source": [
    "for cache in geocaches[:10]:\n",
    "    create_marker(cache, 'darkblue').add_to(m)\n",
    "fit_locations(m, locations_latlon[:10])\n",
    "m"
   ]
  },
  {
   "cell_type": "code",
   "execution_count": null,
   "metadata": {},
   "outputs": [],
   "source": [
    "matrix_10x10 = openroute.request_matrix({\n",
    "    \"locations\": locations_lonlat[:10],\n",
    "    \"metrics\": [\"distance\", \"duration\"]\n",
    "}, nocache=True)"
   ]
  },
  {
   "cell_type": "code",
   "execution_count": null,
   "metadata": {},
   "outputs": [],
   "source": [
    "print_response(matrix_10x10)"
   ]
  },
  {
   "cell_type": "code",
   "execution_count": null,
   "metadata": {},
   "outputs": [],
   "source": [
    "import json\n",
    "\n",
    "with open(\"matrix10.json\", 'w+') as outfile:\n",
    "    json.dump(matrix_10x10, outfile)"
   ]
  },
  {
   "cell_type": "code",
   "execution_count": null,
   "metadata": {},
   "outputs": [],
   "source": [
    "for cache in geocaches[10:50]:\n",
    "    create_marker(cache, 'darkgreen').add_to(m)\n",
    "fit_locations(m, locations_latlon[:50])\n",
    "m"
   ]
  },
  {
   "cell_type": "code",
   "execution_count": null,
   "metadata": {},
   "outputs": [],
   "source": [
    "matrix_50x50 = openroute.matrix_builder(locations_lonlat[:50], nocache=True)"
   ]
  },
  {
   "cell_type": "code",
   "execution_count": null,
   "metadata": {},
   "outputs": [],
   "source": [
    "print_response(matrix_50x50)"
   ]
  },
  {
   "cell_type": "code",
   "execution_count": null,
   "metadata": {},
   "outputs": [],
   "source": [
    "with open(\"matrix50.json\", 'w+') as outfile:\n",
    "    json.dump(matrix_50x50, outfile)"
   ]
  },
  {
   "cell_type": "code",
   "execution_count": null,
   "metadata": {},
   "outputs": [],
   "source": [
    "for cache in geocaches[50:500]:\n",
    "    create_marker(cache).add_to(m)\n",
    "m"
   ]
  },
  {
   "cell_type": "code",
   "execution_count": null,
   "metadata": {},
   "outputs": [],
   "source": [
    "matrix_500x500 = openroute.matrix_builder(locations_lonlat, increments=20)"
   ]
  },
  {
   "cell_type": "code",
   "execution_count": null,
   "metadata": {},
   "outputs": [],
   "source": [
    "print_response(matrix_500x500)"
   ]
  },
  {
   "cell_type": "code",
   "execution_count": null,
   "metadata": {},
   "outputs": [],
   "source": [
    "with open(\"matrix500.json\", 'w+') as outfile:\n",
    "    json.dump(matrix_500x500, outfile)"
   ]
  }
 ],
 "metadata": {
  "kernelspec": {
   "display_name": "Python 3",
   "language": "python",
   "name": "python3"
  },
  "language_info": {
   "codemirror_mode": {
    "name": "ipython",
    "version": 3
   },
   "file_extension": ".py",
   "mimetype": "text/x-python",
   "name": "python",
   "nbconvert_exporter": "python",
   "pygments_lexer": "ipython3",
   "version": "3.8.5-final"
  }
 },
 "nbformat": 4,
 "nbformat_minor": 4
}