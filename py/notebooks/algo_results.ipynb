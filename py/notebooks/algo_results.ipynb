{
 "metadata": {
  "language_info": {
   "codemirror_mode": {
    "name": "ipython",
    "version": 3
   },
   "file_extension": ".py",
   "mimetype": "text/x-python",
   "name": "python",
   "nbconvert_exporter": "python",
   "pygments_lexer": "ipython3",
   "version": "3.8.6-final"
  },
  "orig_nbformat": 2,
  "kernelspec": {
   "name": "python3",
   "display_name": "Python 3.8.6 64-bit",
   "metadata": {
    "interpreter": {
     "hash": "4e1d9a8909477db77738c33245c29c7265277ef753467dede8cf3f814cde494e"
    }
   }
  }
 },
 "nbformat": 4,
 "nbformat_minor": 2,
 "cells": [
  {
   "cell_type": "code",
   "execution_count": null,
   "metadata": {},
   "outputs": [],
   "source": [
    "# time_constraint = 15000\n",
    "# path_raw = \"ID: 0->ID: 3->ID: 8->ID: 10->ID: 16->ID: 9->ID: 6->ID: 2->ID: 1->ID: 4->ID: 17->ID: 26->ID: 35->ID: 37->ID: 34->ID: 28->ID: 12->ID: 22->ID: 25->ID: 19->ID: 18->ID: 20->ID: 23->ID: 36->ID: 21->ID: 13->ID: 29->ID: 15->ID: 14->ID: 41->ID: 42->ID: 38->ID: 5->ID: 11->ID: 7->ID: 0->\"\n",
    "# legend_placement = [52.532883, 13.339717]\n",
    "\n",
    "time_constraint = 30000\n",
    "path_raw = \"ID: 0->ID: 3->ID: 8->ID: 10->ID: 16->ID: 9->ID: 6->ID: 2->ID: 1->ID: 4->ID: 17->ID: 26->ID: 35->ID: 37->ID: 34->ID: 28->ID: 12->ID: 22->ID: 25->ID: 19->ID: 18->ID: 20->ID: 23->ID: 36->ID: 21->ID: 13->ID: 29->ID: 15->ID: 14->ID: 41->ID: 42->ID: 38->ID: 5->ID: 11->ID: 7->ID: 30->ID: 24->ID: 32->ID: 33->ID: 27->ID: 31->ID: 40->ID: 46->ID: 45->ID: 48->ID: 56->ID: 52->ID: 62->ID: 58->ID: 68->ID: 65->ID: 73->ID: 50->ID: 51->ID: 94->ID: 0->\"\n",
    "legend_placement = [52.706653, 12.874888]"
   ]
  },
  {
   "cell_type": "code",
   "execution_count": null,
   "metadata": {},
   "outputs": [],
   "source": [
    "import datetime\n",
    "import locale\n",
    "locale.setlocale(locale.LC_ALL, '')"
   ]
  },
  {
   "cell_type": "code",
   "execution_count": null,
   "metadata": {},
   "outputs": [],
   "source": [
    "extra_html = \"\""
   ]
  },
  {
   "cell_type": "code",
   "execution_count": null,
   "metadata": {},
   "outputs": [],
   "source": [
    "from context import openroute\n",
    "\n",
    "openroute.api.go_offline()\n",
    "local_ready = openroute.check_status()\n",
    "print(\"[{}] localhost\".format(' OK ' if local_ready else 'FAIL'))\n",
    "\n",
    "openroute.api.go_online()\n",
    "azure_ready = openroute.check_status()\n",
    "print(\"[{}] azure\".format(' OK ' if azure_ready else 'FAIL'))\n",
    "\n",
    "openroute.api.toggle_online(not local_ready)\n",
    "\n",
    "print('Using: {}'.format('azure' if openroute.api.is_online() else 'localhost'))"
   ]
  },
  {
   "cell_type": "code",
   "execution_count": null,
   "metadata": {},
   "outputs": [],
   "source": [
    "import json\n",
    "\n",
    "with open(\"data/matrix500.json\", 'r') as infile:\n",
    "    data = json.load(infile)\n",
    "\n",
    "geocaches = [[lat, lon] for lon, lat in data['metadata']['query']['locations']]\n",
    "cost_matrix = data['durations']"
   ]
  },
  {
   "cell_type": "code",
   "execution_count": null,
   "metadata": {},
   "outputs": [],
   "source": [
    "path = [int(val) for val in list(filter(None, path_raw.replace('ID: ', '').split('->')))]"
   ]
  },
  {
   "cell_type": "code",
   "execution_count": null,
   "metadata": {},
   "outputs": [],
   "source": [
    "time_constraint = 30000\n",
    "legend_placement = [52.522467, 13.289700]\n",
    "\n",
    "ant_count = 409\n",
    "iterations = 55\n",
    "path = [0, 3, 8, 10, 16, 14, 15, 13, 6, 2, 1, 4, 12, 22, 25, 19, 18, 20, 23, 21, 36, 43, 39, 44, 54, 57, 69, 96, 108, 130, 132, 131, 133, 135, 137, 151, 147, 146, 145, 139, 141, 144, 155, 165, 182, 191, 193, 202, 188, 197, 209, 205, 166, 149, 134, 140, 138, 121, 117, 112, 109, 95, 84, 82, 81, 78, 80, 66, 61, 49, 47, 40, 32, 33, 31, 27, 26, 35, 37, 34, 28, 17, 0]\n",
    "\n",
    "extra_html = f\"\"\"\n",
    "    <tr>\n",
    "        <td>Ants:</td><td align=right>{ant_count:n}</td>\n",
    "    </tr>\n",
    "    <tr>\n",
    "        <td>Iterations:</td><td align=right>{iterations:n}</td>\n",
    "    </tr>\n",
    "\"\"\""
   ]
  },
  {
   "cell_type": "code",
   "execution_count": null,
   "metadata": {},
   "outputs": [],
   "source": [
    "print(path)"
   ]
  },
  {
   "cell_type": "code",
   "execution_count": null,
   "metadata": {},
   "outputs": [],
   "source": [
    "import math\n",
    "\n",
    "cost = 0\n",
    "\n",
    "for index in range(len(path)-1):\n",
    "    from_id = path[index]\n",
    "    to_id = path[index+1]\n",
    "    cost += cost_matrix[from_id][to_id]\n",
    "\n",
    "cost = math.ceil(cost)"
   ]
  },
  {
   "cell_type": "code",
   "execution_count": null,
   "metadata": {},
   "outputs": [],
   "source": [
    "import folium\n",
    "from algo_results import create_marker, create_circle_marker, fit_locations, style_function, create_legend"
   ]
  },
  {
   "cell_type": "code",
   "execution_count": null,
   "metadata": {},
   "outputs": [],
   "source": [
    "import math\n",
    "max_geocaches = int(math.ceil((max(path) + 1) / 10.0)) * 10"
   ]
  },
  {
   "cell_type": "code",
   "execution_count": null,
   "metadata": {},
   "outputs": [],
   "source": [
    "map = folium.Map(tiles=None, location=[52.498340, 13.358513], zoom_start=14, zoom_control=False)\n",
    "folium.TileLayer(tiles='Stamen Toner', opacity=0.15).add_to(map)\n",
    "pass"
   ]
  },
  {
   "cell_type": "code",
   "execution_count": null,
   "metadata": {
    "tags": []
   },
   "outputs": [],
   "source": [
    "from tqdm import tqdm\n",
    "\n",
    "optimal_locations = [[geocaches[id][1], geocaches[id][0]] for id in path]\n",
    "\n",
    "step = 10\n",
    "max_steps = math.ceil(len(optimal_locations) / step)"
   ]
  },
  {
   "cell_type": "code",
   "execution_count": null,
   "metadata": {},
   "outputs": [],
   "source": [
    "import colorsys\n",
    "import seaborn as sns\n",
    "\n",
    "color_palette = ['#%02x%02x%02x' % (int(color[0]*255), int(color[1]*255), int(color[2]*255)) for color in sns.color_palette(\"hls\", max_steps)]\n",
    "\n",
    "color_palette_html = f\"\"\"\n",
    "    <table class=\"color-palette\"><tr>{''.join([f'<td style=\"color: {color};\"><div>&nbsp;</div></td>' for color in color_palette])}</tr></table>\n",
    "\"\"\"\n",
    "\n",
    "color_palette"
   ]
  },
  {
   "cell_type": "code",
   "execution_count": null,
   "metadata": {},
   "outputs": [],
   "source": [
    "optimal_routes = []\n",
    "\n",
    "for index in tqdm(range(max_steps)):\n",
    "    start = index * step\n",
    "    request = {\n",
    "        'coordinates': optimal_locations[start:start+step+1],\n",
    "        'geometry': True,\n",
    "        'instructions': False\n",
    "    }\n",
    "    optimal_route = openroute.request_directions(request, format_out='/geojson')\n",
    "\n",
    "    if optimal_route:\n",
    "        folium.features.GeoJson(data=optimal_route,\n",
    "                                name='Optimal route',\n",
    "                                style_function=style_function(color_palette[index]),\n",
    "                                overlay=True).add_to(map)\n",
    "        optimal_routes.append(optimal_route)"
   ]
  },
  {
   "cell_type": "code",
   "execution_count": null,
   "metadata": {},
   "outputs": [],
   "source": [
    "use_penultimate = path[0] == path[-1]\n",
    "start_node = path[0]\n",
    "last_node = path[-2] if use_penultimate else path[-1]\n",
    "visited_nodes = len(path) - 1 if use_penultimate else len(path)\n",
    "\n",
    "for index, coords in enumerate(geocaches[:max_geocaches]):\n",
    "    color = '#787c99'\n",
    "    if index == start_node: # start\n",
    "        color = '#41a6b5'\n",
    "    elif index == last_node: # last node before start\n",
    "        color = '#9d7cd8'\n",
    "    elif index in path: # other visited\n",
    "        color = '#3c7da2'\n",
    "    create_marker(path, coords, index, color, radius=8).add_to(map)"
   ]
  },
  {
   "cell_type": "code",
   "execution_count": null,
   "metadata": {},
   "outputs": [],
   "source": [
    "def sum_duration(routes: list):\n",
    "    sum = 0.0\n",
    "    for route in routes:\n",
    "        sum += route['features'][0]['properties']['summary']['duration']\n",
    "    return sum\n",
    "\n",
    "optimal_duration = sum_duration(optimal_routes)\n",
    "cost_str = str(datetime.timedelta(seconds=round(cost)))\n",
    "actual_str = str(datetime.timedelta(seconds=round(optimal_duration)))\n",
    "\n",
    "time_constraint_html = ''\n",
    "if time_constraint:\n",
    "    time_constraint_html = f\"\"\"\n",
    "        <tr>\n",
    "            <td>Time constraint:</td>\n",
    "            <td align=right>{str(datetime.timedelta(seconds=time_constraint))}</td>\n",
    "        </tr>\n",
    "    \"\"\"\n",
    "\n",
    "legend = create_legend(legend_placement, html=f\"\"\"\n",
    "    {color_palette_html}\n",
    "    <table width=100%>\n",
    "        {extra_html}\n",
    "        {time_constraint_html}\n",
    "        <tr>\n",
    "            <td>Duration:</td>\n",
    "            <td align=right>{cost_str}</td>\n",
    "        </tr>\n",
    "        <tr>\n",
    "            <td>Cost:</td>\n",
    "            <td align=right>{cost}</td>\n",
    "        </tr>\n",
    "        <tr>\n",
    "            <td>Visited nodes:</td>\n",
    "            <td align=right>{visited_nodes}</td>\n",
    "        </tr>\n",
    "    </table>\n",
    "    <div class=\"marker-description\">\n",
    "        <span class=\"start\">Start node</span>\n",
    "        <span class=\"last\">{\"Penultimate\" if use_penultimate else \"Last\"} node</span>\n",
    "    </div>\n",
    "\"\"\")\n",
    "\n",
    "legend.add_to(map)\n",
    "\n",
    "(cost_str, actual_str)"
   ]
  },
  {
   "cell_type": "code",
   "execution_count": null,
   "metadata": {},
   "outputs": [],
   "source": [
    "map"
   ]
  },
  {
   "cell_type": "code",
   "execution_count": null,
   "metadata": {},
   "outputs": [],
   "source": []
  }
 ]
}