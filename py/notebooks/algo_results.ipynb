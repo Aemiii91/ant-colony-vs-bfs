{
 "metadata": {
  "language_info": {
   "codemirror_mode": {
    "name": "ipython",
    "version": 3
   },
   "file_extension": ".py",
   "mimetype": "text/x-python",
   "name": "python",
   "nbconvert_exporter": "python",
   "pygments_lexer": "ipython3",
   "version": "3.8.6-final"
  },
  "orig_nbformat": 2,
  "kernelspec": {
   "name": "python3",
   "display_name": "Python 3.8.6 64-bit",
   "metadata": {
    "interpreter": {
     "hash": "4e1d9a8909477db77738c33245c29c7265277ef753467dede8cf3f814cde494e"
    }
   }
  }
 },
 "nbformat": 4,
 "nbformat_minor": 2,
 "cells": [
  {
   "cell_type": "code",
   "execution_count": null,
   "metadata": {},
   "outputs": [],
   "source": [
    "import datetime\n",
    "import locale\n",
    "locale.setlocale(locale.LC_ALL, '')"
   ]
  },
  {
   "cell_type": "code",
   "execution_count": null,
   "metadata": {},
   "outputs": [],
   "source": [
    "from context import openroute\n",
    "\n",
    "ors_ready = openroute.auto_switch()\n",
    "\n",
    "if ors_ready:\n",
    "    print('Using: {}'.format('azure' if openroute.api.is_online() else 'localhost'))"
   ]
  },
  {
   "cell_type": "code",
   "execution_count": null,
   "metadata": {},
   "outputs": [],
   "source": [
    "time_constraint = 30000\n",
    "legend_placement = [52.522467, 13.289700]\n",
    "\n",
    "dataset = 'munchen'\n",
    "ant_count = 2000\n",
    "iterations = 1000\n",
    "runtime = 60\n",
    "path = [77, 75, 76, 78, 79, 70, 64, 58, 57, 59, 56, 52, 49, 48, 50, 54, 62, 63, 67, 72, 55, 47, 43, 51, 69, 45, 37, 32, 22, 21, 14, 13, 17, 30, 31, 41, 40, 46, 44, 39, 33, 34, 27, 18, 29, 26, 42, 53, 71, 65, 80, 84, 94, 91, 102, 107, 114, 118, 110, 105, 90, 95, 97, 108, 103, 86, 88, 87, 92, 93, 83, 81, 77]\n",
    "\n",
    "extra_html = f\"\"\"\n",
    "    <tr>\n",
    "        <td>Ants:</td><td align=right>{ant_count:n}</td>\n",
    "    </tr>\n",
    "\"\"\"\n",
    "#     <tr>\n",
    "#         <td>Iterations:</td><td align=right>{iterations:n}</td>\n",
    "#     </tr>\n",
    "# \"\"\""
   ]
  },
  {
   "cell_type": "code",
   "execution_count": null,
   "metadata": {},
   "outputs": [],
   "source": [
    "import json\n",
    "\n",
    "with open(f\"../data/{dataset}.json\", 'r') as infile:\n",
    "    data = json.load(infile)\n",
    "\n",
    "geocaches = [[lat, lon] for lon, lat in data['metadata']['query']['locations']]\n",
    "cost_matrix = data['durations']"
   ]
  },
  {
   "cell_type": "code",
   "execution_count": null,
   "metadata": {},
   "outputs": [],
   "source": [
    "import math\n",
    "\n",
    "cost = 0\n",
    "\n",
    "for index in range(len(path)-1):\n",
    "    from_id = path[index]\n",
    "    to_id = path[index+1]\n",
    "    cost += cost_matrix[from_id][to_id]\n",
    "\n",
    "cost = math.ceil(cost)"
   ]
  },
  {
   "cell_type": "code",
   "execution_count": null,
   "metadata": {},
   "outputs": [],
   "source": [
    "import folium\n",
    "from algo_results import create_marker, create_circle_marker, fit_locations, style_function, create_legend"
   ]
  },
  {
   "cell_type": "code",
   "execution_count": null,
   "metadata": {},
   "outputs": [],
   "source": [
    "my_map = folium.Map(tiles=None, location=[52.498340, 13.358513], zoom_start=14, zoom_control=False)\n",
    "folium.TileLayer(tiles='Stamen Toner', opacity=0.15).add_to(my_map)\n",
    "fit_locations(my_map, geocaches)\n",
    "pass"
   ]
  },
  {
   "cell_type": "code",
   "execution_count": null,
   "metadata": {},
   "outputs": [],
   "source": [
    "show_path = True\n",
    "use_penultimate = path[0] == path[-1]\n",
    "start_node = path[0]\n",
    "last_node = path[-2] if use_penultimate else path[-1]\n",
    "visited_nodes = len(path) - 1 if use_penultimate else len(path)\n",
    "\n",
    "for index, coords in enumerate(geocaches):\n",
    "    color = '#787c99'\n",
    "    if show_path:\n",
    "        if index == start_node: # start\n",
    "            color = '#41a6b5'\n",
    "        elif index == last_node: # last node before start\n",
    "            color = '#9d7cd8'\n",
    "        elif index in path: # other visited\n",
    "            color = '#3c7da2'\n",
    "        create_marker(path, coords, index, color, radius=8).add_to(my_map)\n",
    "    else:\n",
    "        create_marker([], coords, index, color, radius=8).add_to(my_map)"
   ]
  },
  {
   "cell_type": "code",
   "execution_count": null,
   "metadata": {
    "tags": []
   },
   "outputs": [],
   "source": [
    "from tqdm import tqdm\n",
    "\n",
    "optimal_locations_latlon = [[geocaches[id][0], geocaches[id][1]] for id in path]\n",
    "optimal_locations = [[geocaches[id][1], geocaches[id][0]] for id in path]\n",
    "optimal_routes = []"
   ]
  },
  {
   "cell_type": "code",
   "execution_count": null,
   "metadata": {
    "tags": []
   },
   "outputs": [],
   "source": [
    "line_color = '#bb616b'\n",
    "\n",
    "if ors_ready:\n",
    "    for index in tqdm(range(len(optimal_locations)-1)):\n",
    "        request = {\n",
    "            'coordinates': optimal_locations[index:index+2],\n",
    "            'geometry': True,\n",
    "            'instructions': False\n",
    "        }\n",
    "        optimal_route = openroute.request_directions(request, format_out='/geojson')\n",
    "\n",
    "        if optimal_route and not 'error' in optimal_route:\n",
    "            folium.features.GeoJson(data=optimal_route,\n",
    "                                    name='Optimal route',\n",
    "                                    style_function=style_function(line_color),\n",
    "                                    overlay=True).add_to(my_map)\n",
    "            optimal_routes.append(optimal_route)\n",
    "        else:\n",
    "            folium.PolyLine(optimal_locations_latlon[index:index+2], color=line_color, weight=3, opacity=1).add_to(my_map)\n",
    "else:\n",
    "    folium.PolyLine(optimal_locations_latlon, color=line_color, weight=3, opacity=1).add_to(my_map)"
   ]
  },
  {
   "cell_type": "code",
   "execution_count": null,
   "metadata": {},
   "outputs": [],
   "source": [
    "cost_str = str(datetime.timedelta(seconds=round(cost)))\n",
    "\n",
    "time_constraint_html = ''\n",
    "if time_constraint:\n",
    "    time_constraint_html = f\"\"\"\n",
    "        <tr>\n",
    "            <td>Time constraint:</td>\n",
    "            <td align=right>{str(datetime.timedelta(seconds=time_constraint))}</td>\n",
    "        </tr>\n",
    "    \"\"\"\n",
    "\n",
    "score = visited_nodes + (1 - cost / time_constraint)\n",
    "\n",
    "legend = create_legend(f\"\"\"\n",
    "    <table width=100%>\n",
    "        {extra_html}\n",
    "        <tr>\n",
    "            <td>Runtime:</td><td align=right>{runtime:n}s</td>\n",
    "        </tr>\n",
    "        {time_constraint_html}\n",
    "        <tr>\n",
    "            <td>Duration:</td>\n",
    "            <td align=right>{cost_str}</td>\n",
    "        </tr>\n",
    "        <tr>\n",
    "            <td>Cost:</td>\n",
    "            <td align=right>{cost}</td>\n",
    "        </tr>\n",
    "        <tr>\n",
    "            <td>Visited nodes:</td>\n",
    "            <td align=right>{visited_nodes}</td>\n",
    "        </tr>\n",
    "        <tr>\n",
    "            <td>Score:</td>\n",
    "            <td align=right>{score:.4f}</td>\n",
    "        </tr>\n",
    "    </table>\n",
    "    <div class=\"marker-description\">\n",
    "        <span class=\"start\">Start node</span>\n",
    "        <span class=\"last\">{\"Penultimate\" if use_penultimate else \"Last\"} node</span>\n",
    "    </div>\n",
    "\"\"\")\n",
    "\n",
    "my_map.get_root().html.add_child(legend)\n",
    "\n",
    "pass"
   ]
  },
  {
   "cell_type": "code",
   "execution_count": null,
   "metadata": {},
   "outputs": [],
   "source": [
    "my_map"
   ]
  },
  {
   "cell_type": "code",
   "execution_count": null,
   "metadata": {},
   "outputs": [],
   "source": []
  }
 ]
}