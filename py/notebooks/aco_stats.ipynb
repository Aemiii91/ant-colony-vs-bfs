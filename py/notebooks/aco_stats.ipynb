{
 "cells": [
  {
   "cell_type": "code",
   "execution_count": 1,
   "metadata": {},
   "outputs": [],
   "source": [
    "import math\n",
    "import numpy as np\n",
    "import pandas as pd\n",
    "import seaborn as sns\n",
    "import matplotlib.pyplot as plt\n",
    "import tikzplotlib\n",
    "import json\n",
    "from collections import Counter"
   ]
  },
  {
   "cell_type": "code",
   "execution_count": 2,
   "metadata": {},
   "outputs": [],
   "source": [
    "color0 = (0.12156862745098,0.466666666666667,0.705882352941177)\n",
    "color1 = (1,0.498039215686275,0.0549019607843137)\n",
    "colora0 = (0.823529411764706,0.8901960784313725,0.941176470588235)\n",
    "colora1 = (1,0.8980392156862745,0.807843137254902)"
   ]
  },
  {
   "cell_type": "code",
   "execution_count": 3,
   "metadata": {},
   "outputs": [],
   "source": [
    "def load_data(filename: str, columns: dict = {}):\n",
    "    df = pd.read_csv(f\"../data/{filename}.csv\")\n",
    "    df.rename(columns=columns, inplace=True)\n",
    "    df['iteration'] = range(1, len(df)+1)\n",
    "    return df"
   ]
  },
  {
   "cell_type": "code",
   "execution_count": 4,
   "metadata": {},
   "outputs": [],
   "source": [
    "def plot_data(filename: str, legend: str):\n",
    "    df = load_data(filename, columns={'score': legend})\n",
    "    df['mode'] = legend\n",
    "    sns.lineplot(x='runtime', y=legend, hue='mode', data=df, drawstyle='steps')"
   ]
  },
  {
   "cell_type": "code",
   "execution_count": 5,
   "metadata": {},
   "outputs": [],
   "source": [
    "def load_multiple(data: dict):\n",
    "    dfs = []\n",
    "    for mode in data.keys():\n",
    "        mode_id = 0\n",
    "        filenames = data[mode]\n",
    "        for filename in filenames:\n",
    "            df = load_data(filename)\n",
    "            df['mode'] = mode\n",
    "            df['mode_id'] = mode_id\n",
    "            dfs.append(df)\n",
    "            mode_id += 1\n",
    "    keys = [f\"Run {i}\" for i in range(len(dfs))]\n",
    "    dfs = pd.concat(dfs, keys=keys)\n",
    "    dfs = dfs.groupby(['mode', 'mode_id', 'score'], as_index=False).agg({'runtime': 'first', 'iteration': 'first'})\n",
    "    return dfs"
   ]
  },
  {
   "cell_type": "code",
   "execution_count": 6,
   "metadata": {},
   "outputs": [],
   "source": [
    "def ffill_dfs(dfs):\n",
    "    runtimes = sorted(Counter(dfs['runtime']).keys())\n",
    "    \n",
    "    for group in dfs.groupby(['mode', 'mode_id']):\n",
    "        df = group[1]\n",
    "        df_id = df.iloc[0]['mode_id']\n",
    "        df_mode = df.iloc[0]['mode']\n",
    "        start = df.iloc[0]['runtime']\n",
    "        end = df.iloc[-1]['runtime']\n",
    "        rng = runtimes[runtimes.index(start):runtimes.index(end)]\n",
    "        df_rt = list(df['runtime'])\n",
    "        prev_value = 0\n",
    "        \n",
    "        for runtime in rng:\n",
    "            if runtime in df_rt:\n",
    "                idx = df_rt.index(runtime)\n",
    "                prev_value = df.iloc[idx]['score']\n",
    "            else:\n",
    "                dfs = dfs.append({'mode_id': df_id, 'mode': df_mode, 'runtime': runtime, 'score': prev_value}, ignore_index=True)\n",
    "    \n",
    "    return dfs"
   ]
  },
  {
   "cell_type": "code",
   "execution_count": 7,
   "metadata": {},
   "outputs": [],
   "source": [
    "def multi_step_chart(dfs):\n",
    "    fig, ax = plt.subplots()\n",
    "    sns.lineplot(x='runtime', y='score', hue='mode', style='mode_id', data=dfs, ax=ax, drawstyle='steps-post')\n",
    "    plt.xscale('log')\n",
    "    return (fig, ax)"
   ]
  },
  {
   "cell_type": "code",
   "execution_count": 8,
   "metadata": {},
   "outputs": [],
   "source": [
    "def multi_sd_chart(dfs):\n",
    "    dfs = ffill_dfs(dfs)\n",
    "\n",
    "    fig, ax = plt.subplots()\n",
    "    sns.lineplot(x='runtime', y='score', hue='mode', data=dfs, ax=ax, ci='sd', estimator='mean')\n",
    "    plt.xscale('log')\n",
    "    return (fig, ax)"
   ]
  },
  {
   "cell_type": "code",
   "execution_count": 9,
   "metadata": {},
   "outputs": [],
   "source": [
    "base_path = '../../../rapport/plots/'\n",
    "\n",
    "def tikzsave(name: str):\n",
    "    tikzplotlib.save(base_path + name + '.tex')"
   ]
  },
  {
   "cell_type": "markdown",
   "metadata": {},
   "source": [
    "# Stagnation plot (10s)"
   ]
  },
  {
   "cell_type": "code",
   "execution_count": 10,
   "metadata": {},
   "outputs": [
    {
     "data": {
      "image/png": "[encoded data removed]",
      "text/plain": [
       "<Figure size 432x288 with 1 Axes>"
      ]
     },
     "metadata": {
      "needs_background": "light"
     },
     "output_type": "display_data"
    }
   ],
   "source": [
    "dfs = load_multiple({\n",
    "    \"Default\": [\"berlin_10s_standard\"],\n",
    "    \"God run\": [\"berlin_10s_godrun\"]\n",
    "})\n",
    "\n",
    "fig, ax = plt.subplots()\n",
    "sns.lineplot(x='runtime', y='score', hue='mode', data=dfs, ax=ax, drawstyle='steps-post', legend=False)\n",
    "plt.xlim(0, 3500)\n",
    "plt.legend(['Default', 'God Run'])\n",
    "\n",
    "tikzsave('stagnation_plot')"
   ]
  },
  {
   "cell_type": "markdown",
   "metadata": {},
   "source": [
    "# Multithreading (God run)"
   ]
  },
  {
   "cell_type": "code",
   "execution_count": 11,
   "metadata": {},
   "outputs": [],
   "source": [
    "dfs_gr = load_multiple({\n",
    "    \"MT\": [\"threading_godrun_1s\", \"threading_godrun_10s\", \"threading_godrun_30s\", \"threading_godrun_60s\"],\n",
    "    \"ST\": [\"nothreading_godrun_1s\", \"nothreading_godrun_10s\", \"nothreading_godrun_30s\", \"nothreading_godrun_60s\"]\n",
    "})"
   ]
  },
  {
   "cell_type": "code",
   "execution_count": 12,
   "metadata": {},
   "outputs": [
    {
     "data": {
      "image/png": "[encoded data removed]",
      "text/plain": [
       "<Figure size 432x288 with 1 Axes>"
      ]
     },
     "metadata": {
      "needs_background": "light"
     },
     "output_type": "display_data"
    }
   ],
   "source": [
    "multi_step_chart(dfs_gr)\n",
    "plt.legend(['MT 1s', 'MT 10s', 'MT 30s', 'MT 60s', 'ST 1s', 'ST 10s', 'ST 30s', 'ST 60s'], loc='lower right')\n",
    "tikzsave('threading_godrun_step')"
   ]
  },
  {
   "cell_type": "code",
   "execution_count": 13,
   "metadata": {},
   "outputs": [
    {
     "data": {
      "image/png": "[encoded data removed]",
      "text/plain": [
       "<Figure size 432x288 with 1 Axes>"
      ]
     },
     "metadata": {
      "needs_background": "light"
     },
     "output_type": "display_data"
    }
   ],
   "source": [
    "multi_sd_chart(dfs_gr)\n",
    "plt.legend(['Multi', 'Single'], loc='lower right')\n",
    "tikzsave('threading_godrun_sd')"
   ]
  },
  {
   "cell_type": "markdown",
   "metadata": {},
   "source": [
    "# Multithreading (Default)"
   ]
  },
  {
   "cell_type": "code",
   "execution_count": 14,
   "metadata": {},
   "outputs": [],
   "source": [
    "dfs_df = load_multiple({\n",
    "    \"MT\": [\"threading_default_1s\", \"threading_default_10s\", \"threading_default_30s\", \"threading_default_60s\"],\n",
    "    \"ST\": [\"nothreading_default_1s\", \"nothreading_default_10s\", \"nothreading_default_30s\", \"nothreading_default_60s\"]\n",
    "})"
   ]
  },
  {
   "cell_type": "code",
   "execution_count": 15,
   "metadata": {},
   "outputs": [
    {
     "data": {
      "image/png": "[encoded data removed]",
      "text/plain": [
       "<Figure size 432x288 with 1 Axes>"
      ]
     },
     "metadata": {
      "needs_background": "light"
     },
     "output_type": "display_data"
    }
   ],
   "source": [
    "multi_step_chart(dfs_df)\n",
    "plt.legend(['MT 1s', 'MT 10s', 'MT 30s', 'MT 60s', 'ST 1s', 'ST 10s', 'ST 30s', 'ST 60s'], loc='lower right')\n",
    "tikzsave('threading_default_step')"
   ]
  },
  {
   "cell_type": "code",
   "execution_count": 16,
   "metadata": {},
   "outputs": [
    {
     "data": {
      "image/png": "[encoded data removed]",
      "text/plain": [
       "<Figure size 432x288 with 1 Axes>"
      ]
     },
     "metadata": {
      "needs_background": "light"
     },
     "output_type": "display_data"
    }
   ],
   "source": [
    "multi_sd_chart(dfs_df)\n",
    "plt.legend(['Multi', 'Single'], loc='lower right')\n",
    "tikzsave('threading_default_sd')"
   ]
  },
  {
   "cell_type": "markdown",
   "metadata": {},
   "source": [
    "# Best-ant-limit"
   ]
  },
  {
   "cell_type": "code",
   "execution_count": 17,
   "metadata": {},
   "outputs": [
    {
     "data": {
      "text/html": [
       "<div>\n",
       "<style scoped>\n",
       "    .dataframe tbody tr th:only-of-type {\n",
       "        vertical-align: middle;\n",
       "    }\n",
       "\n",
       "    .dataframe tbody tr th {\n",
       "        vertical-align: top;\n",
       "    }\n",
       "\n",
       "    .dataframe thead th {\n",
       "        text-align: right;\n",
       "    }\n",
       "</style>\n",
       "<table border=\"1\" class=\"dataframe\">\n",
       "  <thead>\n",
       "    <tr style=\"text-align: right;\">\n",
       "      <th></th>\n",
       "      <th>alpha</th>\n",
       "      <th>beta</th>\n",
       "      <th>evaporation</th>\n",
       "      <th>f_antcount</th>\n",
       "      <th>g_bestant</th>\n",
       "      <th>wallclock_time</th>\n",
       "      <th>evaluations</th>\n",
       "      <th>Evaluation</th>\n",
       "    </tr>\n",
       "  </thead>\n",
       "  <tbody>\n",
       "    <tr>\n",
       "      <th>0</th>\n",
       "      <td>1</td>\n",
       "      <td>1</td>\n",
       "      <td>1.00</td>\n",
       "      <td>50</td>\n",
       "      <td>0</td>\n",
       "      <td>0.000156</td>\n",
       "      <td>0</td>\n",
       "      <td>0</td>\n",
       "    </tr>\n",
       "    <tr>\n",
       "      <th>1</th>\n",
       "      <td>1</td>\n",
       "      <td>1</td>\n",
       "      <td>1.00</td>\n",
       "      <td>50</td>\n",
       "      <td>0</td>\n",
       "      <td>1.114998</td>\n",
       "      <td>1</td>\n",
       "      <td>1</td>\n",
       "    </tr>\n",
       "    <tr>\n",
       "      <th>2</th>\n",
       "      <td>24</td>\n",
       "      <td>68</td>\n",
       "      <td>94.92</td>\n",
       "      <td>384</td>\n",
       "      <td>6</td>\n",
       "      <td>611.859459</td>\n",
       "      <td>4</td>\n",
       "      <td>5</td>\n",
       "    </tr>\n",
       "    <tr>\n",
       "      <th>3</th>\n",
       "      <td>9</td>\n",
       "      <td>79</td>\n",
       "      <td>23.03</td>\n",
       "      <td>482</td>\n",
       "      <td>9</td>\n",
       "      <td>1831.258654</td>\n",
       "      <td>8</td>\n",
       "      <td>13</td>\n",
       "    </tr>\n",
       "    <tr>\n",
       "      <th>4</th>\n",
       "      <td>96</td>\n",
       "      <td>44</td>\n",
       "      <td>5.22</td>\n",
       "      <td>633</td>\n",
       "      <td>9</td>\n",
       "      <td>3355.794904</td>\n",
       "      <td>13</td>\n",
       "      <td>26</td>\n",
       "    </tr>\n",
       "    <tr>\n",
       "      <th>5</th>\n",
       "      <td>66</td>\n",
       "      <td>11</td>\n",
       "      <td>92.56</td>\n",
       "      <td>580</td>\n",
       "      <td>5</td>\n",
       "      <td>6099.663631</td>\n",
       "      <td>22</td>\n",
       "      <td>48</td>\n",
       "    </tr>\n",
       "    <tr>\n",
       "      <th>6</th>\n",
       "      <td>11</td>\n",
       "      <td>20</td>\n",
       "      <td>49.98</td>\n",
       "      <td>815</td>\n",
       "      <td>6</td>\n",
       "      <td>8539.304652</td>\n",
       "      <td>30</td>\n",
       "      <td>78</td>\n",
       "    </tr>\n",
       "    <tr>\n",
       "      <th>7</th>\n",
       "      <td>11</td>\n",
       "      <td>10</td>\n",
       "      <td>58.79</td>\n",
       "      <td>828</td>\n",
       "      <td>7</td>\n",
       "      <td>14944.060131</td>\n",
       "      <td>51</td>\n",
       "      <td>129</td>\n",
       "    </tr>\n",
       "    <tr>\n",
       "      <th>8</th>\n",
       "      <td>1</td>\n",
       "      <td>10</td>\n",
       "      <td>51.17</td>\n",
       "      <td>954</td>\n",
       "      <td>8</td>\n",
       "      <td>20129.480754</td>\n",
       "      <td>68</td>\n",
       "      <td>197</td>\n",
       "    </tr>\n",
       "    <tr>\n",
       "      <th>9</th>\n",
       "      <td>1</td>\n",
       "      <td>8</td>\n",
       "      <td>45.35</td>\n",
       "      <td>878</td>\n",
       "      <td>1</td>\n",
       "      <td>37217.381725</td>\n",
       "      <td>125</td>\n",
       "      <td>322</td>\n",
       "    </tr>\n",
       "  </tbody>\n",
       "</table>\n",
       "</div>"
      ],
      "text/plain": [
       "   alpha  beta  evaporation  f_antcount  g_bestant  wallclock_time  \\\n",
       "0      1     1         1.00          50          0        0.000156   \n",
       "1      1     1         1.00          50          0        1.114998   \n",
       "2     24    68        94.92         384          6      611.859459   \n",
       "3      9    79        23.03         482          9     1831.258654   \n",
       "4     96    44         5.22         633          9     3355.794904   \n",
       "5     66    11        92.56         580          5     6099.663631   \n",
       "6     11    20        49.98         815          6     8539.304652   \n",
       "7     11    10        58.79         828          7    14944.060131   \n",
       "8      1    10        51.17         954          8    20129.480754   \n",
       "9      1     8        45.35         878          1    37217.381725   \n",
       "\n",
       "   evaluations  Evaluation  \n",
       "0            0           0  \n",
       "1            1           1  \n",
       "2            4           5  \n",
       "3            8          13  \n",
       "4           13          26  \n",
       "5           22          48  \n",
       "6           30          78  \n",
       "7           51         129  \n",
       "8           68         197  \n",
       "9          125         322  "
      ]
     },
     "execution_count": 17,
     "metadata": {},
     "output_type": "execute_result"
    }
   ],
   "source": [
    "lines = []\n",
    "\n",
    "with open(\"../data/traj.json\", 'r') as infile:\n",
    "    lines = infile.readlines()\n",
    "    \n",
    "def parse_line(line: str):\n",
    "    data = json.loads(line)\n",
    "    \n",
    "    incumbent = data['incumbent']\n",
    "    incumbent['wallclock_time'] = data['wallclock_time']\n",
    "    incumbent['evaluations'] = data['evaluations']\n",
    "    \n",
    "    return incumbent\n",
    "    \n",
    "traj = pd.DataFrame([parse_line(line) for line in lines])\n",
    "\n",
    "traj['evaporation'] = traj['evaporation'].mul(100).round(2)\n",
    "traj['Evaluation'] = traj['evaluations'].cumsum()\n",
    "\n",
    "traj"
   ]
  },
  {
   "cell_type": "code",
   "execution_count": 18,
   "metadata": {},
   "outputs": [
    {
     "data": {
      "image/png": "[encoded data removed]",
      "text/plain": [
       "<Figure size 432x288 with 2 Axes>"
      ]
     },
     "metadata": {
      "needs_background": "light"
     },
     "output_type": "display_data"
    }
   ],
   "source": [
    "fig, ax = plt.subplots()\n",
    "lns1 = sns.lineplot(x='Evaluation', y='f_antcount', data=traj, ax=ax, drawstyle='steps-pre', color=color0, label='Ant count', legend=False)\n",
    "plt.ylabel('Ant count')\n",
    "ax.set_ylim(0,1200)\n",
    "\n",
    "ax2 = ax.twinx()\n",
    "lns2 = sns.lineplot(x='Evaluation', y='g_bestant', data=traj, ax=ax2, drawstyle='steps-pre', color=color1, label='Best-ant limit', legend=False)\n",
    "plt.ylabel('Best-ant limit')\n",
    "ax2.set_ylim(0,12)\n",
    "ax2.set_yticks([i for i in range(0,12)])\n",
    "\n",
    "lns1.legend(loc='upper left')\n",
    "lns2.legend(loc='upper right')\n",
    "\n",
    "tikzsave('bestantlimit_plot')"
   ]
  },
  {
   "cell_type": "code",
   "execution_count": 19,
   "metadata": {
    "scrolled": false
   },
   "outputs": [
    {
     "data": {
      "text/plain": [
       "Text(0, 0.5, 'Evaporation')"
      ]
     },
     "execution_count": 19,
     "metadata": {},
     "output_type": "execute_result"
    },
    {
     "data": {
      "image/png": "[encoded data removed]",
      "text/plain": [
       "<Figure size 432x288 with 1 Axes>"
      ]
     },
     "metadata": {
      "needs_background": "light"
     },
     "output_type": "display_data"
    }
   ],
   "source": [
    "sns.lineplot(x='Evaluation', y='evaporation', data=traj, drawstyle='steps-pre', label='Evaporation', legend=False)\n",
    "plt.ylabel('Evaporation')"
   ]
  },
  {
   "cell_type": "markdown",
   "metadata": {},
   "source": [
    "# Randomness"
   ]
  },
  {
   "cell_type": "code",
   "execution_count": 20,
   "metadata": {},
   "outputs": [
    {
     "data": {
      "image/png": "[encoded data removed]",
      "text/plain": [
       "<Figure size 432x288 with 1 Axes>"
      ]
     },
     "metadata": {
      "needs_background": "light"
     },
     "output_type": "display_data"
    }
   ],
   "source": [
    "df = pd.read_csv(base_path + '../files/munchenaverage_individualized.csv')\n",
    "df['points'] = [int(row['score']) + (1-int(row['cost'])/30000) for _, row in df.iterrows()]\n",
    "\n",
    "sns.boxplot(x='points', y='time', data=df, orient='h', linewidth=1)\n",
    "plt.ylabel('Runtime')\n",
    "plt.xlabel('Score')\n",
    "tikzsave('randomness_boxplot')"
   ]
  },
  {
   "cell_type": "code",
   "execution_count": 21,
   "metadata": {
    "scrolled": true
   },
   "outputs": [
    {
     "data": {
      "image/png": "[encoded data removed]",
      "text/plain": [
       "<Figure size 432x288 with 1 Axes>"
      ]
     },
     "metadata": {
      "needs_background": "light"
     },
     "output_type": "display_data"
    }
   ],
   "source": [
    "df['cost_ratio'] = df['cost'].div(30000).mul(100)\n",
    "\n",
    "sns.boxplot(x='cost_ratio', y='time', data=df, orient='h', linewidth=1)\n",
    "plt.ylabel('Runtime')\n",
    "plt.xlabel('Time utilization (\\\\%)')\n",
    "tikzsave('randomness_boxplot_cost')"
   ]
  },
  {
   "cell_type": "code",
   "execution_count": 22,
   "metadata": {},
   "outputs": [
    {
     "data": {
      "text/html": [
       "<div>\n",
       "<style scoped>\n",
       "    .dataframe tbody tr th:only-of-type {\n",
       "        vertical-align: middle;\n",
       "    }\n",
       "\n",
       "    .dataframe tbody tr th {\n",
       "        vertical-align: top;\n",
       "    }\n",
       "\n",
       "    .dataframe thead tr th {\n",
       "        text-align: left;\n",
       "    }\n",
       "\n",
       "    .dataframe thead tr:last-of-type th {\n",
       "        text-align: right;\n",
       "    }\n",
       "</style>\n",
       "<table border=\"1\" class=\"dataframe\">\n",
       "  <thead>\n",
       "    <tr>\n",
       "      <th></th>\n",
       "      <th colspan=\"4\" halign=\"left\">points</th>\n",
       "    </tr>\n",
       "    <tr>\n",
       "      <th></th>\n",
       "      <th>min</th>\n",
       "      <th>max</th>\n",
       "      <th>mean</th>\n",
       "      <th>std</th>\n",
       "    </tr>\n",
       "    <tr>\n",
       "      <th>time</th>\n",
       "      <th></th>\n",
       "      <th></th>\n",
       "      <th></th>\n",
       "      <th></th>\n",
       "    </tr>\n",
       "  </thead>\n",
       "  <tbody>\n",
       "    <tr>\n",
       "      <th>1</th>\n",
       "      <td>66.008533</td>\n",
       "      <td>68.013400</td>\n",
       "      <td>66.908573</td>\n",
       "      <td>0.737487</td>\n",
       "    </tr>\n",
       "    <tr>\n",
       "      <th>10</th>\n",
       "      <td>67.004200</td>\n",
       "      <td>70.004533</td>\n",
       "      <td>68.704247</td>\n",
       "      <td>1.492879</td>\n",
       "    </tr>\n",
       "    <tr>\n",
       "      <th>30</th>\n",
       "      <td>70.002867</td>\n",
       "      <td>70.006033</td>\n",
       "      <td>70.003253</td>\n",
       "      <td>0.001001</td>\n",
       "    </tr>\n",
       "    <tr>\n",
       "      <th>60</th>\n",
       "      <td>70.002867</td>\n",
       "      <td>70.005300</td>\n",
       "      <td>70.004270</td>\n",
       "      <td>0.001215</td>\n",
       "    </tr>\n",
       "  </tbody>\n",
       "</table>\n",
       "</div>"
      ],
      "text/plain": [
       "         points                                \n",
       "            min        max       mean       std\n",
       "time                                           \n",
       "1     66.008533  68.013400  66.908573  0.737487\n",
       "10    67.004200  70.004533  68.704247  1.492879\n",
       "30    70.002867  70.006033  70.003253  0.001001\n",
       "60    70.002867  70.005300  70.004270  0.001215"
      ]
     },
     "execution_count": 22,
     "metadata": {},
     "output_type": "execute_result"
    }
   ],
   "source": [
    "df.filter(['time','points']).groupby('time').agg(['min','max','mean','std'])"
   ]
  }
 ],
 "metadata": {
  "kernelspec": {
   "display_name": "Python 3",
   "language": "python",
   "name": "python3"
  },
  "language_info": {
   "codemirror_mode": {
    "name": "ipython",
    "version": 3
   },
   "file_extension": ".py",
   "mimetype": "text/x-python",
   "name": "python",
   "nbconvert_exporter": "python",
   "pygments_lexer": "ipython3",
   "version": "3.9.0"
  }
 },
 "nbformat": 4,
 "nbformat_minor": 4
}
