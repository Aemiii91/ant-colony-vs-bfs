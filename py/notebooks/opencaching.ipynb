{
 "cells": [
  {
   "cell_type": "markdown",
   "metadata": {},
   "source": [
    "# Opencaching + openrouteservice example\n",
    "\n",
    "Install dependencies:\n",
    "\n",
    "```sh\n",
    "pip install folium shapely openrouteservice ortools\n",
    "```"
   ]
  },
  {
   "cell_type": "markdown",
   "metadata": {},
   "source": [
    "We set the start point to be somewhere in Berlin."
   ]
  },
  {
   "cell_type": "code",
   "execution_count": null,
   "metadata": {},
   "outputs": [],
   "source": [
    "from context import opencaching\n",
    "\n",
    "start_coord = (52.518848, 13.399411)"
   ]
  },
  {
   "cell_type": "markdown",
   "metadata": {},
   "source": [
    "Next we will use the opencaching api, and find the 50 nearest geocaches."
   ]
  },
  {
   "cell_type": "code",
   "execution_count": null,
   "metadata": {
    "tags": []
   },
   "outputs": [],
   "source": [
    "start_lat, start_lon = start_coord\n",
    "geocaches = opencaching.parse_results(opencaching.search(start_lat, start_lon, count=50))\n",
    "\n",
    "print(f\"Found {len(geocaches)} geocaches near {start_coord}\")"
   ]
  },
  {
   "cell_type": "markdown",
   "metadata": {},
   "source": [
    "We can use folium to visualize the geocaches on a map."
   ]
  },
  {
   "cell_type": "code",
   "execution_count": null,
   "metadata": {},
   "outputs": [],
   "source": [
    "import folium\n",
    "m = folium.Map(tiles='Stamen Toner',location=start_coord, zoom_start=14)\n",
    "\n",
    "for cache in geocaches:\n",
    "    folium.map.Marker(\n",
    "        location=[cache['latitude'], cache['longitude']],\n",
    "        popup=f\"<strong>{cache['code']}</strong><br>Lat:&nbsp;{cache['latitude']:.3f}<br>Lon:&nbsp;{cache['longitude']:.3f}\",\n",
    "        icon=folium.map.Icon(color='darkred'), tooltip=cache['code']\n",
    "    ).add_to(m)\n",
    "\n",
    "m"
   ]
  },
  {
   "cell_type": "markdown",
   "metadata": {},
   "source": [
    "Next, we will use the openrouteservice distance_matrix api to get the distances between all 50 geocaches."
   ]
  },
  {
   "cell_type": "code",
   "execution_count": null,
   "metadata": {},
   "outputs": [],
   "source": [
    "from openrouteservice import client, distance_matrix\n",
    "\n",
    "clnt = client.Client(key='5b3ce3597851110001cf6248b72014cc8ef14af6b3f38d711224981d')\n",
    "\n",
    "locations = [(cache['longitude'], cache['latitude']) for cache in geocaches]\n",
    "\n",
    "locs_str = f\"[[{locations[0][0]},{locations[0][1]}]\"\n",
    "for location in locations:\n",
    "    locs_str += f\",[{location[0]},{location[1]}]\"\n",
    "locs_str += \"]\"\n",
    "# locs_str"
   ]
  },
  {
   "cell_type": "code",
   "execution_count": null,
   "metadata": {},
   "outputs": [],
   "source": [
    "request = {'locations': locations,\n",
    "           'profile': 'foot-walking',\n",
    "           'metrics': ['distance']}\n",
    "    \n",
    "geocache_matrix = clnt.distance_matrix(**request)\n",
    "\n",
    "print(\"Calculated {}x{} routes.\".format(len(geocache_matrix['distances']),len(geocache_matrix['distances'][0])))"
   ]
  },
  {
   "cell_type": "markdown",
   "metadata": {},
   "source": [
    "Next, we use [ortools](https://developers.google.com/optimization) to find an optimal route between the geocaches. This is solving as a TSP problem."
   ]
  },
  {
   "cell_type": "code",
   "execution_count": null,
   "metadata": {},
   "outputs": [],
   "source": [
    "from ortools.constraint_solver import pywrapcp\n",
    "from ortools.constraint_solver import routing_enums_pb2\n",
    "\n",
    "\n",
    "def create_distance_callback(data, manager):\n",
    "    distances_ = data\n",
    "    index_manager_ = manager\n",
    "    \n",
    "    def distance_callback(from_index, to_index):\n",
    "        # Convert from routing variable Index to distance matrix NodeIndex.\n",
    "        from_node = index_manager_.IndexToNode(from_index)\n",
    "        to_node = index_manager_.IndexToNode(to_index)\n",
    "        return distances_[from_node][to_node]\n",
    "\n",
    "    return distance_callback\n",
    "\n",
    "\n",
    "tsp_size = len(locations)\n",
    "num_routes = 1\n",
    "start = 0 # arbitrary start location\n",
    "\n",
    "if tsp_size > 0:\n",
    "    manager = pywrapcp.RoutingIndexManager(tsp_size, num_routes, start)\n",
    "    routing = pywrapcp.RoutingModel(manager)\n",
    "\n",
    "    # Create the distance callback, which takes two arguments (the from and to node indices)\n",
    "    # and returns the distance between these nodes.\n",
    "    distance_callback = create_distance_callback(geocache_matrix['distances'], manager)\n",
    "    transit_callback_index = routing.RegisterTransitCallback(distance_callback)\n",
    "    routing.SetArcCostEvaluatorOfAllVehicles(transit_callback_index)\n",
    "\n",
    "    search_parameters = pywrapcp.DefaultRoutingSearchParameters()\n",
    "\n",
    "    # Solve, returns a solution if any.\n",
    "    assignment = routing.SolveWithParameters(search_parameters)\n",
    "\n",
    "optimal_coords = []\n",
    "\n",
    "def print_solution(manager, routing, assignment):\n",
    "    \"\"\"Prints assignment on console.\"\"\"\n",
    "    print(f\"Objective: {assignment.ObjectiveValue()}\")\n",
    "    index = routing.Start(0)\n",
    "    plan_output = 'Route:\\n'\n",
    "    route_distance = 0\n",
    "    while not routing.IsEnd(index):\n",
    "        plan_output += node_to_str(manager.IndexToNode(index)) + ' -> '\n",
    "        previous_index = index\n",
    "        index = assignment.Value(routing.NextVar(index))\n",
    "        route_distance += routing.GetArcCostForVehicle(previous_index, index, 0)\n",
    "        optimal_coords.append(locations[manager.IndexToNode(index)])\n",
    "    plan_output += node_to_str(manager.IndexToNode(index)) + '\\n'\n",
    "    plan_output += 'Distance of the route: {}m\\n'.format(route_distance)\n",
    "    print(plan_output)\n",
    "\n",
    "def node_to_str(index):\n",
    "    return f\"{geocaches[index]['code']} {index}\"\n",
    "\n",
    "if assignment:\n",
    "    print_solution(manager, routing, assignment)"
   ]
  },
  {
   "cell_type": "markdown",
   "metadata": {},
   "source": [
    "We can now get directions for 2 different routes, one where the geocaches are in random (original) order, and one with the optimal order. The routes are visualized on the map."
   ]
  },
  {
   "cell_type": "code",
   "execution_count": null,
   "metadata": {},
   "outputs": [],
   "source": [
    "from openrouteservice import directions\n",
    "\n",
    "\n",
    "def style_function(color):\n",
    "    return lambda feature: dict(color=color, weight=3, opacity=1)\n",
    "\n",
    "request = {'coordinates': locations,\n",
    "           'profile': 'foot-walking',\n",
    "           'geometry': 'true',\n",
    "           'format_out': 'geojson',\n",
    "           'instructions': 'false'          \n",
    "          }\n",
    "random_route = clnt.directions(**request)\n",
    "\n",
    "folium.features.GeoJson(data=random_route,\n",
    "                        name='Random route',\n",
    "                        style_function=style_function('#84e184'),\n",
    "                        overlay=True).add_to(m)\n",
    "\n",
    "# And now the optimal route\n",
    "request['coordinates'] = optimal_coords\n",
    "optimal_route = clnt.directions(**request)\n",
    "folium.features.GeoJson(data=optimal_route,\n",
    "                        name='Optimal route',\n",
    "                        style_function=style_function('#6666ff'),\n",
    "                        overlay=True).add_to(m)\n",
    "\n",
    "m.add_child(folium.map.LayerControl())\n",
    "m"
   ]
  },
  {
   "cell_type": "markdown",
   "metadata": {},
   "source": [
    "Lastly, we calculate the duration of each route."
   ]
  },
  {
   "cell_type": "code",
   "execution_count": null,
   "metadata": {},
   "outputs": [],
   "source": [
    "optimal_duration = optimal_route['features'][0]['properties']['summary']['duration'] / 60\n",
    "random_duration = random_route['features'][0]['properties']['summary']['duration'] / 60\n",
    "    \n",
    "print(f\"Duration optimal route: {optimal_duration:.3f} mins\\nDuration random route: {random_duration:.3f} mins\")"
   ]
  }
 ],
 "metadata": {
  "kernelspec": {
   "display_name": "Python 3",
   "language": "python",
   "name": "python3"
  },
  "language_info": {
   "codemirror_mode": {
    "name": "ipython",
    "version": 3
   },
   "file_extension": ".py",
   "mimetype": "text/x-python",
   "name": "python",
   "nbconvert_exporter": "python",
   "pygments_lexer": "ipython3",
   "version": "3.8.5"
  }
 },
 "nbformat": 4,
 "nbformat_minor": 4
}